{
 "cells": [
  {
   "cell_type": "code",
   "execution_count": 1,
   "metadata": {},
   "outputs": [],
   "source": [
    "import shutil,os \n",
    "import pandas as pd\n",
    "from matplotlib import pyplot as plt\n",
    "from sklearn.metrics import confusion_matrix"
   ]
  },
  {
   "cell_type": "code",
   "execution_count": 3,
   "metadata": {},
   "outputs": [],
   "source": [
    "EXPECTED_RESULTS_DIR = './expected'\n",
    "RESULTS_DIR = './results'\n",
    "SAMPLES_DIR = './Samples'\n",
    "SUB_DIRS =['cmds','defs','exprs','prim','stat']"
   ]
  },
  {
   "cell_type": "markdown",
   "metadata": {},
   "source": [
    "# 1. Lancer les résultats"
   ]
  },
  {
   "cell_type": "code",
   "execution_count": 7,
   "metadata": {},
   "outputs": [],
   "source": [
    "import platform, subprocess\n",
    "def type(file_path:str,result_path:str): \n",
    "    type_cmds = [f\"./type.sh\",file_path]\n",
    "    try : \n",
    "        if platform.system() == \"Windows\":\n",
    "            type_cmds = ['wsl']+type_cmds\n",
    "        resultat = subprocess.run(type_cmds, shell=True, capture_output=True, text=True, check=True)\n",
    "        sortie = resultat.stdout\n",
    "        type_result = (sortie.rstrip()).split('\\n')\n",
    "    except subprocess.CalledProcessError as e:\n",
    "        type_result=(str(e.output).rstrip()).split('\\n')\n",
    "    with open(result_path,'w') as f : \n",
    "        f.write('\\n'.join(type_result))\n",
    "def eval(file_path:str,result_path:str): \n",
    "    eval_cmds = [f\"./eval\",file_path]\n",
    "    try : \n",
    "        if platform.system() == \"Windows\":\n",
    "            eval_cmds = ['wsl']+eval_cmds\n",
    "        resultat = subprocess.run(eval_cmds, shell=True, capture_output=True, text=True, check=True)\n",
    "        sortie = resultat.stdout\n",
    "        eval_result = (sortie.rstrip()).split('\\n')\n",
    "    except subprocess.CalledProcessError as e:\n",
    "        eval_result=[e.stderr]\n",
    "    with open(result_path,'w') as f : \n",
    "        f.writelines('\\n'.join(eval_result))\n",
    "    \n",
    "    \n",
    "def run_typing_and_eval(file_path:str,result_dir:str):\n",
    "    type(file_path,result_dir+'/type.result')\n",
    "    eval(file_path,result_dir+'/eval.result')\n",
    " "
   ]
  },
  {
   "cell_type": "code",
   "execution_count": 8,
   "metadata": {},
   "outputs": [],
   "source": [
    "for dir in SUB_DIRS: \n",
    "    if not os.path.exists(f'{RESULTS_DIR}/{dir}'):\n",
    "        os.makedirs(f'{RESULTS_DIR}/{dir}')\n",
    "    for file in os.listdir(f'{SAMPLES_DIR}/{dir}') : \n",
    "        file_name = file.split('.')[0]\n",
    "        file_path = f'{SAMPLES_DIR}/{dir}/{file}'\n",
    "        result_dir = f'{RESULTS_DIR}/{dir}/{file_name}'\n",
    "        if not os.path.exists(result_dir):\n",
    "            os.makedirs(result_dir)\n",
    "        run_typing_and_eval(file_path,result_dir)\n",
    "        "
   ]
  },
  {
   "cell_type": "markdown",
   "metadata": {},
   "source": [
    "# 2. Vérifier les résultats"
   ]
  },
  {
   "cell_type": "code",
   "execution_count": 10,
   "metadata": {},
   "outputs": [],
   "source": [
    "COLUMNS=['file_name','type','eval','correctly_type','correctly_eval']"
   ]
  },
  {
   "cell_type": "code",
   "execution_count": 11,
   "metadata": {},
   "outputs": [],
   "source": [
    "def initialise_results(columns):\n",
    "    df = pd.DataFrame(columns=columns)\n",
    "    if not os.path.exists('./results'):\n",
    "        os.makedirs('./results')\n",
    "    df.to_csv(f'./results/results.csv',index=False)\n",
    "    return df"
   ]
  },
  {
   "cell_type": "code",
   "execution_count": 12,
   "metadata": {},
   "outputs": [],
   "source": [
    "def save_results(df,results:list,columns:list):\n",
    "    df = pd.DataFrame([results],columns=columns) \n",
    "    df.to_csv(f'./results/results.csv',mode='a',index=False,header=False)"
   ]
  },
  {
   "cell_type": "code",
   "execution_count": 13,
   "metadata": {},
   "outputs": [],
   "source": [
    "def validate(expected_file_path:str,result_file_path:str): \n",
    "    with open(expected_file_path,'r') as f : \n",
    "        expected= f.read().splitlines() \n",
    "    with open(result_file_path,'r') as f : \n",
    "        results= f.read().splitlines() \n",
    "    if len(expected)!=len(results) : \n",
    "        return False \n",
    "    for e,r in zip(expected,results) : \n",
    "        if e!=r : \n",
    "            return False \n",
    "    return True\n",
    "\n",
    "def is_correctly_typed(result_file_path:str) : \n",
    "    with open(result_file_path,'r') as f : \n",
    "        result= f.read().splitlines()\n",
    "    return result[0]=='void'  \n",
    "\n",
    "def is_correctly_eval(result_file_path:str) : \n",
    "    with open(result_file_path,'r') as f : \n",
    "        result= f.read().splitlines()\n",
    "    return result[-1]=='eval'  "
   ]
  },
  {
   "cell_type": "code",
   "execution_count": 14,
   "metadata": {},
   "outputs": [],
   "source": [
    "df = initialise_results(COLUMNS)\n",
    "for dir in SUB_DIRS : \n",
    "    for file in os.listdir(f'{SAMPLES_DIR}/{dir}') :\n",
    "        file_name = file.split('.')[0]\n",
    "        expected_dir = f'{EXPECTED_RESULTS_DIR}/{dir}/{file_name}'\n",
    "        result_dir = f'{RESULTS_DIR}/{dir}/{file_name}'\n",
    "        # Type \n",
    "        type_result = validate(f'{expected_dir}/type.result',f'{result_dir}/type.result')\n",
    "        eval_result = validate(f'{expected_dir}/eval.result',f'{result_dir}/eval.result')\n",
    "        correctly_typed = is_correctly_typed(f'{result_dir}/type.result')\n",
    "        correctly_eval = is_correctly_eval(f'{result_dir}/eval.result')\n",
    "        results=[file_name,type_result,eval_result,correctly_typed,correctly_eval]\n",
    "        save_results(df,results,COLUMNS)\n",
    "        \n",
    "        pass "
   ]
  },
  {
   "cell_type": "code",
   "execution_count": 15,
   "metadata": {},
   "outputs": [
    {
     "data": {
      "image/png": "[encoded data removed]",
      "text/plain": [
       "<Figure size 640x480 with 2 Axes>"
      ]
     },
     "metadata": {},
     "output_type": "display_data"
    }
   ],
   "source": [
    "df = pd.read_csv('./results/results.csv')\n",
    "# Convertir les colonnes 'type' et 'eval' en type booléen\n",
    "df['correctly_type'] = df['correctly_type'].astype(bool)\n",
    "df['correctly_eval'] = df['correctly_eval'].astype(bool)\n",
    "\n",
    "# Calculer les pourcentages\n",
    "total_count = len(df)\n",
    "true_true_count = ((df['correctly_type'] == True) & (df['correctly_eval'] == True)).sum()\n",
    "true_false_count = ((df['correctly_type'] == True) & (df['correctly_eval'] == False)).sum()\n",
    "false_true_count = ((df['correctly_type'] == False) & (df['correctly_eval'] == True)).sum()\n",
    "false_false_count = ((df['correctly_type'] == False) & (df['correctly_eval'] == False)).sum()\n",
    "\n",
    "true_true_percentage = (true_true_count / total_count) * 100\n",
    "true_false_percentage = (true_false_count / total_count) * 100\n",
    "false_true_percentage = (false_true_count / total_count) * 100\n",
    "false_false_percentage = (false_false_count / total_count) * 100\n",
    "\n",
    "# Créer la matrice carrée des pourcentages\n",
    "conf_matrix = [[true_true_percentage, false_true_percentage],\n",
    "               [true_false_percentage, false_false_percentage]]\n",
    "\n",
    "# Afficher la matrice carrée\n",
    "plt.imshow(conf_matrix, interpolation='nearest', cmap=plt.cm.Blues)\n",
    "plt.title('Matrice de Pourcentage')\n",
    "plt.colorbar()\n",
    "\n",
    "classes = ['True', 'False']\n",
    "tick_marks = [0, 1]\n",
    "plt.xticks(tick_marks, classes)\n",
    "plt.yticks(tick_marks, classes)\n",
    "\n",
    "for i in range(2):\n",
    "    for j in range(2):\n",
    "        plt.text(j, i, f\"{conf_matrix[i][j]:.2f}%\", horizontalalignment='center', verticalalignment='center')\n",
    "\n",
    "plt.ylabel('Résultat de l\\'évaluateur')\n",
    "plt.xlabel('Résultat du typeur')\n",
    "plt.tight_layout()\n",
    "plt.show()"
   ]
  }
 ],
 "metadata": {
  "kernelspec": {
   "display_name": "Python 3",
   "language": "python",
   "name": "python3"
  },
  "language_info": {
   "codemirror_mode": {
    "name": "ipython",
    "version": 3
   },
   "file_extension": ".py",
   "mimetype": "text/x-python",
   "name": "python",
   "nbconvert_exporter": "python",
   "pygments_lexer": "ipython3",
   "version": "3.10.5"
  }
 },
 "nbformat": 4,
 "nbformat_minor": 2
}
