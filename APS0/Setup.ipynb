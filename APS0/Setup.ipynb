{
 "cells": [
  {
   "cell_type": "code",
   "execution_count": 32,
   "metadata": {},
   "outputs": [],
   "source": [
    "import os "
   ]
  },
  {
   "cell_type": "code",
   "execution_count": 30,
   "metadata": {},
   "outputs": [],
   "source": [
    "EXPECTED_RESULTS_DIR = './expected'\n",
    "RESULTS_DIR = './results'\n",
    "SAMPLES_DIR = './Samples'\n",
    "SUB_DIRS =['defs','exprs','prim']\n"
   ]
  },
  {
   "cell_type": "code",
   "execution_count": 33,
   "metadata": {},
   "outputs": [],
   "source": [
    "for dir in SUB_DIRS: \n",
    "    os.makedirs(f'{RESULTS_DIR}/{dir}')"
   ]
  },
  {
   "cell_type": "code",
   "execution_count": 58,
   "metadata": {},
   "outputs": [],
   "source": [
    "import platform, subprocess\n",
    "def type(file_path:str,result_path:str): \n",
    "    type_cmds = [f\"./type.sh\",file_path]\n",
    "    try : \n",
    "        if platform.system() == \"Windows\":\n",
    "            type_cmds = ['wsl']+type_cmds\n",
    "        resultat = subprocess.run(type_cmds, shell=True, capture_output=True, text=True, check=True)\n",
    "        sortie = resultat.stdout\n",
    "        type_result = (sortie.rstrip()).split('\\n')\n",
    "    except subprocess.CalledProcessError as e:\n",
    "        type_result=(str(e.output).rstrip()).split('\\n')\n",
    "    with open(result_path,'w') as f : \n",
    "        f.write('\\n'.join(type_result))\n",
    "def eval(file_path:str,result_path:str): \n",
    "    eval_cmds = [f\"./eval\",file_path]\n",
    "    try : \n",
    "        if platform.system() == \"Windows\":\n",
    "            eval_cmds = ['wsl']+eval_cmds\n",
    "        resultat = subprocess.run(eval_cmds, shell=True, capture_output=True, text=True, check=True)\n",
    "        sortie = resultat.stdout\n",
    "        eval_result = (sortie.rstrip()).split('\\n')\n",
    "    except subprocess.CalledProcessError as e:\n",
    "        eval_result=(str(e.output).rstrip()).split('\\n')\n",
    "    with open(result_path,'w') as f : \n",
    "        f.writelines('\\n'.join(eval_result))\n",
    "    \n",
    "    \n",
    "def run_typing_and_eval(file_path:str,result_dir:str):\n",
    "    type(file_path,result_dir+'/type.result')\n",
    "    eval(file_path,result_dir+'/eval.result')\n",
    " "
   ]
  },
  {
   "cell_type": "code",
   "execution_count": 59,
   "metadata": {},
   "outputs": [],
   "source": [
    "for dir in SUB_DIRS: \n",
    "    for file in os.listdir(f'{SAMPLES_DIR}/{dir}') : \n",
    "        file_name = file.split('.')[0]\n",
    "        file_path = f'{SAMPLES_DIR}/{dir}/{file}'\n",
    "        result_dir = f'{RESULTS_DIR}/{dir}/{file_name}'\n",
    "        if not os.path.exists(result_dir):\n",
    "            os.makedirs(result_dir)\n",
    "        run_typing_and_eval(file_path,result_dir)\n",
    "        "
   ]
  }
 ],
 "metadata": {
  "kernelspec": {
   "display_name": "Python 3",
   "language": "python",
   "name": "python3"
  },
  "language_info": {
   "codemirror_mode": {
    "name": "ipython",
    "version": 3
   },
   "file_extension": ".py",
   "mimetype": "text/x-python",
   "name": "python",
   "nbconvert_exporter": "python",
   "pygments_lexer": "ipython3",
   "version": "3.10.5"
  }
 },
 "nbformat": 4,
 "nbformat_minor": 2
}
